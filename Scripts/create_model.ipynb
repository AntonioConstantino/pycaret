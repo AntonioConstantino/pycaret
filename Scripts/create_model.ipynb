{
 "cells": [
  {
   "cell_type": "code",
   "execution_count": 2,
   "metadata": {},
   "outputs": [],
   "source": [
    "import pandas as pd\n",
    "import numpy as np\n",
    "from sklearn.preprocessing import LabelBinarizer,StandardScaler"
   ]
  },
  {
   "cell_type": "code",
   "execution_count": 3,
   "metadata": {},
   "outputs": [
    {
     "name": "stderr",
     "output_type": "stream",
     "text": [
      "C:\\Users\\jacj2\\AppData\\Local\\Temp\\ipykernel_17520\\199708183.py:1: DtypeWarning: Columns (8) have mixed types. Specify dtype option on import or set low_memory=False.\n",
      "  df=pd.read_csv(r'../data/train_set.csv')\n"
     ]
    }
   ],
   "source": [
    "df=pd.read_csv(r'../data/train_set.csv')\n"
   ]
  },
  {
   "cell_type": "code",
   "execution_count": 4,
   "metadata": {},
   "outputs": [
    {
     "name": "stdout",
     "output_type": "stream",
     "text": [
      "<class 'pandas.core.frame.DataFrame'>\n",
      "RangeIndex: 700000 entries, 0 to 699999\n",
      "Data columns (total 14 columns):\n",
      " #   Column               Non-Null Count   Dtype  \n",
      "---  ------               --------------   -----  \n",
      " 0   trip_id              700000 non-null  int64  \n",
      " 1   duration             700000 non-null  int64  \n",
      " 2   start_time           700000 non-null  object \n",
      " 3   end_time             700000 non-null  object \n",
      " 4   start_lat            694437 non-null  float64\n",
      " 5   start_lon            694437 non-null  float64\n",
      " 6   end_lat              681426 non-null  float64\n",
      " 7   end_lon              681426 non-null  float64\n",
      " 8   bike_id              700000 non-null  object \n",
      " 9   plan_duration        699792 non-null  float64\n",
      " 10  trip_route_category  700000 non-null  object \n",
      " 11  passholder_type      697424 non-null  object \n",
      " 12  start_station        700000 non-null  int64  \n",
      " 13  end_station          700000 non-null  int64  \n",
      "dtypes: float64(5), int64(4), object(5)\n",
      "memory usage: 74.8+ MB\n"
     ]
    }
   ],
   "source": [
    "df.info()"
   ]
  },
  {
   "cell_type": "code",
   "execution_count": null,
   "metadata": {},
   "outputs": [],
   "source": []
  }
 ],
 "metadata": {
  "kernelspec": {
   "display_name": "tensor_gpu1",
   "language": "python",
   "name": "python3"
  },
  "language_info": {
   "codemirror_mode": {
    "name": "ipython",
    "version": 3
   },
   "file_extension": ".py",
   "mimetype": "text/x-python",
   "name": "python",
   "nbconvert_exporter": "python",
   "pygments_lexer": "ipython3",
   "version": "3.10.15"
  }
 },
 "nbformat": 4,
 "nbformat_minor": 2
}
